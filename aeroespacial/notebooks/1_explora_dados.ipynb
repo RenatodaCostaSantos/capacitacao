{
 "cells": [
  {
   "cell_type": "markdown",
   "id": "c6a36e12",
   "metadata": {},
   "source": [
    "# Explorando os dados"
   ]
  },
  {
   "cell_type": "markdown",
   "id": "e855e46c",
   "metadata": {},
   "source": [
    "# 1 - Lendo os dados\n",
    "\n",
    "Para a modelagem, será utilizado apenas os dados referente ao target $r$, que é a razão tensorial-escalar que armazena a informação sobre ondas gravitacionais primordiais."
   ]
  },
  {
   "cell_type": "code",
   "execution_count": 1,
   "id": "75a59861",
   "metadata": {},
   "outputs": [],
   "source": [
    "import pandas as pd\n",
    "\n",
    "df = pd.read_csv('training_b_df.csv')"
   ]
  },
  {
   "cell_type": "code",
   "execution_count": 2,
   "id": "f77c70b7",
   "metadata": {},
   "outputs": [
    {
     "data": {
      "text/html": [
       "<div>\n",
       "<style scoped>\n",
       "    .dataframe tbody tr th:only-of-type {\n",
       "        vertical-align: middle;\n",
       "    }\n",
       "\n",
       "    .dataframe tbody tr th {\n",
       "        vertical-align: top;\n",
       "    }\n",
       "\n",
       "    .dataframe thead th {\n",
       "        text-align: right;\n",
       "    }\n",
       "</style>\n",
       "<table border=\"1\" class=\"dataframe\">\n",
       "  <thead>\n",
       "    <tr style=\"text-align: right;\">\n",
       "      <th></th>\n",
       "      <th>index</th>\n",
       "      <th>l_2</th>\n",
       "      <th>l_3</th>\n",
       "      <th>l_4</th>\n",
       "      <th>l_5</th>\n",
       "      <th>l_6</th>\n",
       "      <th>l_7</th>\n",
       "      <th>l_8</th>\n",
       "      <th>l_9</th>\n",
       "      <th>l_10</th>\n",
       "      <th>...</th>\n",
       "      <th>l_503</th>\n",
       "      <th>l_504</th>\n",
       "      <th>l_505</th>\n",
       "      <th>l_506</th>\n",
       "      <th>l_507</th>\n",
       "      <th>l_508</th>\n",
       "      <th>l_509</th>\n",
       "      <th>l_510</th>\n",
       "      <th>l_511</th>\n",
       "      <th>r</th>\n",
       "    </tr>\n",
       "  </thead>\n",
       "  <tbody>\n",
       "    <tr>\n",
       "      <th>0</th>\n",
       "      <td>cl_b_realization1_target1</td>\n",
       "      <td>0.000172</td>\n",
       "      <td>0.000066</td>\n",
       "      <td>0.000078</td>\n",
       "      <td>0.000069</td>\n",
       "      <td>0.000063</td>\n",
       "      <td>0.000021</td>\n",
       "      <td>0.000053</td>\n",
       "      <td>0.000031</td>\n",
       "      <td>0.000043</td>\n",
       "      <td>...</td>\n",
       "      <td>6.058483e-10</td>\n",
       "      <td>6.123373e-10</td>\n",
       "      <td>5.492230e-10</td>\n",
       "      <td>4.987756e-10</td>\n",
       "      <td>4.996063e-10</td>\n",
       "      <td>4.873860e-10</td>\n",
       "      <td>4.858634e-10</td>\n",
       "      <td>3.759005e-10</td>\n",
       "      <td>4.054609e-10</td>\n",
       "      <td>0.002872</td>\n",
       "    </tr>\n",
       "    <tr>\n",
       "      <th>1</th>\n",
       "      <td>cl_b_realization2_target1</td>\n",
       "      <td>0.000058</td>\n",
       "      <td>0.000068</td>\n",
       "      <td>0.000118</td>\n",
       "      <td>0.000045</td>\n",
       "      <td>0.000045</td>\n",
       "      <td>0.000043</td>\n",
       "      <td>0.000063</td>\n",
       "      <td>0.000035</td>\n",
       "      <td>0.000042</td>\n",
       "      <td>...</td>\n",
       "      <td>5.957533e-10</td>\n",
       "      <td>5.382490e-10</td>\n",
       "      <td>5.511306e-10</td>\n",
       "      <td>4.965663e-10</td>\n",
       "      <td>4.848698e-10</td>\n",
       "      <td>4.638441e-10</td>\n",
       "      <td>4.146040e-10</td>\n",
       "      <td>3.850935e-10</td>\n",
       "      <td>3.658829e-10</td>\n",
       "      <td>0.002872</td>\n",
       "    </tr>\n",
       "    <tr>\n",
       "      <th>2</th>\n",
       "      <td>cl_b_realization3_target1</td>\n",
       "      <td>0.000066</td>\n",
       "      <td>0.000086</td>\n",
       "      <td>0.000129</td>\n",
       "      <td>0.000044</td>\n",
       "      <td>0.000056</td>\n",
       "      <td>0.000038</td>\n",
       "      <td>0.000041</td>\n",
       "      <td>0.000059</td>\n",
       "      <td>0.000060</td>\n",
       "      <td>...</td>\n",
       "      <td>6.044535e-10</td>\n",
       "      <td>5.756162e-10</td>\n",
       "      <td>5.306156e-10</td>\n",
       "      <td>4.744517e-10</td>\n",
       "      <td>4.625054e-10</td>\n",
       "      <td>4.354919e-10</td>\n",
       "      <td>3.960931e-10</td>\n",
       "      <td>3.977156e-10</td>\n",
       "      <td>3.608611e-10</td>\n",
       "      <td>0.002872</td>\n",
       "    </tr>\n",
       "    <tr>\n",
       "      <th>3</th>\n",
       "      <td>cl_b_realization4_target1</td>\n",
       "      <td>0.000140</td>\n",
       "      <td>0.000167</td>\n",
       "      <td>0.000060</td>\n",
       "      <td>0.000070</td>\n",
       "      <td>0.000064</td>\n",
       "      <td>0.000030</td>\n",
       "      <td>0.000018</td>\n",
       "      <td>0.000049</td>\n",
       "      <td>0.000025</td>\n",
       "      <td>...</td>\n",
       "      <td>6.067260e-10</td>\n",
       "      <td>5.923192e-10</td>\n",
       "      <td>5.206132e-10</td>\n",
       "      <td>5.064276e-10</td>\n",
       "      <td>4.546328e-10</td>\n",
       "      <td>4.771503e-10</td>\n",
       "      <td>4.041781e-10</td>\n",
       "      <td>3.925857e-10</td>\n",
       "      <td>3.493796e-10</td>\n",
       "      <td>0.002872</td>\n",
       "    </tr>\n",
       "    <tr>\n",
       "      <th>4</th>\n",
       "      <td>cl_b_realization5_target1</td>\n",
       "      <td>0.000025</td>\n",
       "      <td>0.000066</td>\n",
       "      <td>0.000041</td>\n",
       "      <td>0.000060</td>\n",
       "      <td>0.000052</td>\n",
       "      <td>0.000034</td>\n",
       "      <td>0.000046</td>\n",
       "      <td>0.000031</td>\n",
       "      <td>0.000035</td>\n",
       "      <td>...</td>\n",
       "      <td>6.144698e-10</td>\n",
       "      <td>5.878574e-10</td>\n",
       "      <td>5.581525e-10</td>\n",
       "      <td>5.349131e-10</td>\n",
       "      <td>4.615936e-10</td>\n",
       "      <td>4.710612e-10</td>\n",
       "      <td>4.277015e-10</td>\n",
       "      <td>3.812178e-10</td>\n",
       "      <td>3.678812e-10</td>\n",
       "      <td>0.002872</td>\n",
       "    </tr>\n",
       "    <tr>\n",
       "      <th>...</th>\n",
       "      <td>...</td>\n",
       "      <td>...</td>\n",
       "      <td>...</td>\n",
       "      <td>...</td>\n",
       "      <td>...</td>\n",
       "      <td>...</td>\n",
       "      <td>...</td>\n",
       "      <td>...</td>\n",
       "      <td>...</td>\n",
       "      <td>...</td>\n",
       "      <td>...</td>\n",
       "      <td>...</td>\n",
       "      <td>...</td>\n",
       "      <td>...</td>\n",
       "      <td>...</td>\n",
       "      <td>...</td>\n",
       "      <td>...</td>\n",
       "      <td>...</td>\n",
       "      <td>...</td>\n",
       "      <td>...</td>\n",
       "      <td>...</td>\n",
       "    </tr>\n",
       "    <tr>\n",
       "      <th>9995</th>\n",
       "      <td>cl_b_realization6_target1000</td>\n",
       "      <td>0.000017</td>\n",
       "      <td>0.000209</td>\n",
       "      <td>0.000385</td>\n",
       "      <td>0.000079</td>\n",
       "      <td>0.000089</td>\n",
       "      <td>0.000040</td>\n",
       "      <td>0.000053</td>\n",
       "      <td>0.000055</td>\n",
       "      <td>0.000056</td>\n",
       "      <td>...</td>\n",
       "      <td>5.516829e-10</td>\n",
       "      <td>5.934444e-10</td>\n",
       "      <td>5.169918e-10</td>\n",
       "      <td>5.210142e-10</td>\n",
       "      <td>4.470891e-10</td>\n",
       "      <td>4.619118e-10</td>\n",
       "      <td>3.933742e-10</td>\n",
       "      <td>3.561920e-10</td>\n",
       "      <td>3.397018e-10</td>\n",
       "      <td>0.014936</td>\n",
       "    </tr>\n",
       "    <tr>\n",
       "      <th>9996</th>\n",
       "      <td>cl_b_realization7_target1000</td>\n",
       "      <td>0.000021</td>\n",
       "      <td>0.000200</td>\n",
       "      <td>0.000087</td>\n",
       "      <td>0.000099</td>\n",
       "      <td>0.000158</td>\n",
       "      <td>0.000047</td>\n",
       "      <td>0.000015</td>\n",
       "      <td>0.000058</td>\n",
       "      <td>0.000137</td>\n",
       "      <td>...</td>\n",
       "      <td>5.594487e-10</td>\n",
       "      <td>5.265735e-10</td>\n",
       "      <td>4.667441e-10</td>\n",
       "      <td>4.792801e-10</td>\n",
       "      <td>4.221269e-10</td>\n",
       "      <td>3.972213e-10</td>\n",
       "      <td>3.605560e-10</td>\n",
       "      <td>3.874225e-10</td>\n",
       "      <td>3.352761e-10</td>\n",
       "      <td>0.014936</td>\n",
       "    </tr>\n",
       "    <tr>\n",
       "      <th>9997</th>\n",
       "      <td>cl_b_realization8_target1000</td>\n",
       "      <td>0.000244</td>\n",
       "      <td>0.000103</td>\n",
       "      <td>0.000202</td>\n",
       "      <td>0.000152</td>\n",
       "      <td>0.000073</td>\n",
       "      <td>0.000035</td>\n",
       "      <td>0.000057</td>\n",
       "      <td>0.000036</td>\n",
       "      <td>0.000052</td>\n",
       "      <td>...</td>\n",
       "      <td>5.235341e-10</td>\n",
       "      <td>6.281461e-10</td>\n",
       "      <td>5.356119e-10</td>\n",
       "      <td>5.341638e-10</td>\n",
       "      <td>4.507673e-10</td>\n",
       "      <td>4.504032e-10</td>\n",
       "      <td>4.218950e-10</td>\n",
       "      <td>4.454599e-10</td>\n",
       "      <td>3.516340e-10</td>\n",
       "      <td>0.014936</td>\n",
       "    </tr>\n",
       "    <tr>\n",
       "      <th>9998</th>\n",
       "      <td>cl_b_realization9_target1000</td>\n",
       "      <td>0.000029</td>\n",
       "      <td>0.000242</td>\n",
       "      <td>0.000166</td>\n",
       "      <td>0.000151</td>\n",
       "      <td>0.000074</td>\n",
       "      <td>0.000058</td>\n",
       "      <td>0.000049</td>\n",
       "      <td>0.000089</td>\n",
       "      <td>0.000043</td>\n",
       "      <td>...</td>\n",
       "      <td>5.865421e-10</td>\n",
       "      <td>5.865462e-10</td>\n",
       "      <td>5.099055e-10</td>\n",
       "      <td>5.082683e-10</td>\n",
       "      <td>4.383359e-10</td>\n",
       "      <td>4.465953e-10</td>\n",
       "      <td>3.948185e-10</td>\n",
       "      <td>3.890945e-10</td>\n",
       "      <td>3.387430e-10</td>\n",
       "      <td>0.014936</td>\n",
       "    </tr>\n",
       "    <tr>\n",
       "      <th>9999</th>\n",
       "      <td>cl_b_realization10_target1000</td>\n",
       "      <td>0.000098</td>\n",
       "      <td>0.000202</td>\n",
       "      <td>0.000145</td>\n",
       "      <td>0.000110</td>\n",
       "      <td>0.000081</td>\n",
       "      <td>0.000065</td>\n",
       "      <td>0.000029</td>\n",
       "      <td>0.000050</td>\n",
       "      <td>0.000081</td>\n",
       "      <td>...</td>\n",
       "      <td>6.147854e-10</td>\n",
       "      <td>5.558837e-10</td>\n",
       "      <td>5.163260e-10</td>\n",
       "      <td>4.701277e-10</td>\n",
       "      <td>4.579664e-10</td>\n",
       "      <td>4.721826e-10</td>\n",
       "      <td>4.271212e-10</td>\n",
       "      <td>4.012463e-10</td>\n",
       "      <td>3.751234e-10</td>\n",
       "      <td>0.014936</td>\n",
       "    </tr>\n",
       "  </tbody>\n",
       "</table>\n",
       "<p>10000 rows × 512 columns</p>\n",
       "</div>"
      ],
      "text/plain": [
       "                              index       l_2       l_3       l_4       l_5  \\\n",
       "0         cl_b_realization1_target1  0.000172  0.000066  0.000078  0.000069   \n",
       "1         cl_b_realization2_target1  0.000058  0.000068  0.000118  0.000045   \n",
       "2         cl_b_realization3_target1  0.000066  0.000086  0.000129  0.000044   \n",
       "3         cl_b_realization4_target1  0.000140  0.000167  0.000060  0.000070   \n",
       "4         cl_b_realization5_target1  0.000025  0.000066  0.000041  0.000060   \n",
       "...                             ...       ...       ...       ...       ...   \n",
       "9995   cl_b_realization6_target1000  0.000017  0.000209  0.000385  0.000079   \n",
       "9996   cl_b_realization7_target1000  0.000021  0.000200  0.000087  0.000099   \n",
       "9997   cl_b_realization8_target1000  0.000244  0.000103  0.000202  0.000152   \n",
       "9998   cl_b_realization9_target1000  0.000029  0.000242  0.000166  0.000151   \n",
       "9999  cl_b_realization10_target1000  0.000098  0.000202  0.000145  0.000110   \n",
       "\n",
       "           l_6       l_7       l_8       l_9      l_10  ...         l_503  \\\n",
       "0     0.000063  0.000021  0.000053  0.000031  0.000043  ...  6.058483e-10   \n",
       "1     0.000045  0.000043  0.000063  0.000035  0.000042  ...  5.957533e-10   \n",
       "2     0.000056  0.000038  0.000041  0.000059  0.000060  ...  6.044535e-10   \n",
       "3     0.000064  0.000030  0.000018  0.000049  0.000025  ...  6.067260e-10   \n",
       "4     0.000052  0.000034  0.000046  0.000031  0.000035  ...  6.144698e-10   \n",
       "...        ...       ...       ...       ...       ...  ...           ...   \n",
       "9995  0.000089  0.000040  0.000053  0.000055  0.000056  ...  5.516829e-10   \n",
       "9996  0.000158  0.000047  0.000015  0.000058  0.000137  ...  5.594487e-10   \n",
       "9997  0.000073  0.000035  0.000057  0.000036  0.000052  ...  5.235341e-10   \n",
       "9998  0.000074  0.000058  0.000049  0.000089  0.000043  ...  5.865421e-10   \n",
       "9999  0.000081  0.000065  0.000029  0.000050  0.000081  ...  6.147854e-10   \n",
       "\n",
       "             l_504         l_505         l_506         l_507         l_508  \\\n",
       "0     6.123373e-10  5.492230e-10  4.987756e-10  4.996063e-10  4.873860e-10   \n",
       "1     5.382490e-10  5.511306e-10  4.965663e-10  4.848698e-10  4.638441e-10   \n",
       "2     5.756162e-10  5.306156e-10  4.744517e-10  4.625054e-10  4.354919e-10   \n",
       "3     5.923192e-10  5.206132e-10  5.064276e-10  4.546328e-10  4.771503e-10   \n",
       "4     5.878574e-10  5.581525e-10  5.349131e-10  4.615936e-10  4.710612e-10   \n",
       "...            ...           ...           ...           ...           ...   \n",
       "9995  5.934444e-10  5.169918e-10  5.210142e-10  4.470891e-10  4.619118e-10   \n",
       "9996  5.265735e-10  4.667441e-10  4.792801e-10  4.221269e-10  3.972213e-10   \n",
       "9997  6.281461e-10  5.356119e-10  5.341638e-10  4.507673e-10  4.504032e-10   \n",
       "9998  5.865462e-10  5.099055e-10  5.082683e-10  4.383359e-10  4.465953e-10   \n",
       "9999  5.558837e-10  5.163260e-10  4.701277e-10  4.579664e-10  4.721826e-10   \n",
       "\n",
       "             l_509         l_510         l_511         r  \n",
       "0     4.858634e-10  3.759005e-10  4.054609e-10  0.002872  \n",
       "1     4.146040e-10  3.850935e-10  3.658829e-10  0.002872  \n",
       "2     3.960931e-10  3.977156e-10  3.608611e-10  0.002872  \n",
       "3     4.041781e-10  3.925857e-10  3.493796e-10  0.002872  \n",
       "4     4.277015e-10  3.812178e-10  3.678812e-10  0.002872  \n",
       "...            ...           ...           ...       ...  \n",
       "9995  3.933742e-10  3.561920e-10  3.397018e-10  0.014936  \n",
       "9996  3.605560e-10  3.874225e-10  3.352761e-10  0.014936  \n",
       "9997  4.218950e-10  4.454599e-10  3.516340e-10  0.014936  \n",
       "9998  3.948185e-10  3.890945e-10  3.387430e-10  0.014936  \n",
       "9999  4.271212e-10  4.012463e-10  3.751234e-10  0.014936  \n",
       "\n",
       "[10000 rows x 512 columns]"
      ]
     },
     "execution_count": 2,
     "metadata": {},
     "output_type": "execute_result"
    }
   ],
   "source": [
    "df"
   ]
  },
  {
   "cell_type": "markdown",
   "id": "7b6540f8",
   "metadata": {},
   "source": [
    "# 2 - Remoção de duplicados"
   ]
  },
  {
   "cell_type": "code",
   "execution_count": 4,
   "id": "15fee913",
   "metadata": {},
   "outputs": [
    {
     "name": "stdout",
     "output_type": "stream",
     "text": [
      "0       False\n",
      "1       False\n",
      "2       False\n",
      "3       False\n",
      "4       False\n",
      "        ...  \n",
      "9995    False\n",
      "9996    False\n",
      "9997    False\n",
      "9998    False\n",
      "9999    False\n",
      "Length: 10000, dtype: bool\n"
     ]
    }
   ],
   "source": [
    "# Verifica quais linhas são duplicatas\n",
    "duplicadas = df.duplicated()\n",
    "print(duplicadas)"
   ]
  },
  {
   "cell_type": "code",
   "execution_count": 5,
   "id": "7ac2c024",
   "metadata": {},
   "outputs": [
    {
     "name": "stdout",
     "output_type": "stream",
     "text": [
      "Total de linhas duplicadas: 0\n"
     ]
    }
   ],
   "source": [
    "total_duplicadas = df.duplicated().sum()\n",
    "print(f\"Total de linhas duplicadas: {total_duplicadas}\")"
   ]
  },
  {
   "cell_type": "markdown",
   "id": "426dd490",
   "metadata": {},
   "source": [
    "### OBS: Não há dados duplicados neste dataset"
   ]
  },
  {
   "cell_type": "markdown",
   "id": "e1e75966",
   "metadata": {},
   "source": [
    "# 3 - Verifica existencia de dados nulos"
   ]
  },
  {
   "cell_type": "code",
   "execution_count": 14,
   "id": "e9074903",
   "metadata": {},
   "outputs": [
    {
     "name": "stdout",
     "output_type": "stream",
     "text": [
      "Contagem de nulos por coluna:\n",
      "index    0\n",
      "l_2      0\n",
      "l_3      0\n",
      "l_4      0\n",
      "l_5      0\n",
      "        ..\n",
      "l_508    0\n",
      "l_509    0\n",
      "l_510    0\n",
      "l_511    0\n",
      "r        0\n",
      "Length: 512, dtype: int64\n"
     ]
    }
   ],
   "source": [
    "contagem_nulos = df.isnull().sum()\n",
    "print(\"Contagem de nulos por coluna:\")\n",
    "print(contagem_nulos)"
   ]
  },
  {
   "cell_type": "code",
   "execution_count": 15,
   "id": "726f7312",
   "metadata": {},
   "outputs": [
    {
     "name": "stdout",
     "output_type": "stream",
     "text": [
      "O número TOTAL de nulos no DataFrame é: 0\n"
     ]
    }
   ],
   "source": [
    "total_nulos_df = contagem_nulos.sum()\n",
    "\n",
    "print(f\"O número TOTAL de nulos no DataFrame é: {total_nulos_df}\")"
   ]
  },
  {
   "cell_type": "markdown",
   "id": "82483043",
   "metadata": {},
   "source": [
    "### OBS: Não há dados nulos no dataset."
   ]
  },
  {
   "cell_type": "markdown",
   "id": "8279b89d",
   "metadata": {},
   "source": [
    "# 4 - Checando tipos das colunas"
   ]
  },
  {
   "cell_type": "code",
   "execution_count": 16,
   "id": "944466c8",
   "metadata": {},
   "outputs": [
    {
     "name": "stdout",
     "output_type": "stream",
     "text": [
      "Informações detalhadas do DataFrame:\n",
      "<class 'pandas.core.frame.DataFrame'>\n",
      "RangeIndex: 10000 entries, 0 to 9999\n",
      "Columns: 512 entries, index to r\n",
      "dtypes: float64(511), object(1)\n",
      "memory usage: 39.1+ MB\n"
     ]
    }
   ],
   "source": [
    "print(\"Informações detalhadas do DataFrame:\")\n",
    "df.info()"
   ]
  },
  {
   "cell_type": "markdown",
   "id": "b5f6c579",
   "metadata": {},
   "source": [
    "Descarta-se a coluna 'index' por conter apenas informação sobre os arquivos usados na agregação. "
   ]
  },
  {
   "cell_type": "code",
   "execution_count": 18,
   "id": "802d690d",
   "metadata": {},
   "outputs": [],
   "source": [
    "df.drop(columns=['index'], inplace=True)"
   ]
  },
  {
   "cell_type": "code",
   "execution_count": 20,
   "id": "00d3642c",
   "metadata": {},
   "outputs": [
    {
     "name": "stdout",
     "output_type": "stream",
     "text": [
      "Informações detalhadas do DataFrame:\n",
      "<class 'pandas.core.frame.DataFrame'>\n",
      "RangeIndex: 10000 entries, 0 to 9999\n",
      "Columns: 511 entries, l_2 to r\n",
      "dtypes: float64(511)\n",
      "memory usage: 39.0 MB\n"
     ]
    }
   ],
   "source": [
    "print(\"Informações detalhadas do DataFrame:\")\n",
    "df.info()"
   ]
  },
  {
   "cell_type": "markdown",
   "id": "8f2b1a6b",
   "metadata": {},
   "source": [
    "### OBS: Todos os dados são númericos do tipo float64\n"
   ]
  },
  {
   "cell_type": "code",
   "execution_count": null,
   "id": "aab18b38",
   "metadata": {},
   "outputs": [],
   "source": []
  },
  {
   "cell_type": "markdown",
   "id": "f0fdcc22",
   "metadata": {},
   "source": [
    "# 5 - Verificando se os dados estão normalizados\n",
    "\n",
    "A informação da doutora Camila Novaes que me passou os dados era de que os dados estavam normalizados.\n",
    "\n",
    "Abaixo, verifica-se se essa afirmação procede:"
   ]
  },
  {
   "cell_type": "code",
   "execution_count": 21,
   "id": "23f3b527",
   "metadata": {},
   "outputs": [
    {
     "name": "stdout",
     "output_type": "stream",
     "text": [
      "O valor máximo de todo o DataFrame é: 0.049998\n"
     ]
    }
   ],
   "source": [
    "maximo_global = df.max(numeric_only=True).max()\n",
    "\n",
    "print(f\"O valor máximo de todo o DataFrame é: {maximo_global}\")"
   ]
  },
  {
   "cell_type": "code",
   "execution_count": 22,
   "id": "b242e432",
   "metadata": {},
   "outputs": [
    {
     "name": "stdout",
     "output_type": "stream",
     "text": [
      "O valor mínimo de todo o DataFrame é: 4.627907e-10\n"
     ]
    }
   ],
   "source": [
    "minimo_global = df.max(numeric_only=True).min()\n",
    "\n",
    "print(f\"O valor mínimo de todo o DataFrame é: {minimo_global}\")"
   ]
  },
  {
   "cell_type": "markdown",
   "id": "e76541bd",
   "metadata": {},
   "source": [
    "### OBS:\n",
    "\n",
    "- Os dados númericos todos se encontram entre 0 e 1. \n",
    "\n",
    "- Os dados estão prontos para a modelagem.\n"
   ]
  }
 ],
 "metadata": {
  "kernelspec": {
   "display_name": "vamo-py3.11",
   "language": "python",
   "name": "python3"
  },
  "language_info": {
   "codemirror_mode": {
    "name": "ipython",
    "version": 3
   },
   "file_extension": ".py",
   "mimetype": "text/x-python",
   "name": "python",
   "nbconvert_exporter": "python",
   "pygments_lexer": "ipython3",
   "version": "3.11.13"
  }
 },
 "nbformat": 4,
 "nbformat_minor": 5
}
