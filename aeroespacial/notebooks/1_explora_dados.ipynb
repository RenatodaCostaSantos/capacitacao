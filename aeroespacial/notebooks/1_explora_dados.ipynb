{
 "cells": [
  {
   "cell_type": "markdown",
   "id": "c6a36e12",
   "metadata": {},
   "source": [
    "# Explorando os dados"
   ]
  },
  {
   "cell_type": "markdown",
   "id": "e855e46c",
   "metadata": {},
   "source": [
    "# 1 - Lendo os dados\n",
    "\n",
    "Para a modelagem, será utilizado apenas os dados referente ao target $r$, que é a razão tensorial-escalar que armazena a informação sobre ondas gravitacionais primordiais."
   ]
  },
  {
   "cell_type": "code",
   "execution_count": 1,
   "id": "75a59861",
   "metadata": {},
   "outputs": [],
   "source": [
    "import pandas as pd\n",
    "\n",
    "df = pd.read_csv('training_b_df.csv')"
   ]
  },
  {
   "cell_type": "code",
   "execution_count": 2,
   "id": "f77c70b7",
   "metadata": {},
   "outputs": [
    {
     "data": {
      "text/html": [
       "<div>\n",
       "<style scoped>\n",
       "    .dataframe tbody tr th:only-of-type {\n",
       "        vertical-align: middle;\n",
       "    }\n",
       "\n",
       "    .dataframe tbody tr th {\n",
       "        vertical-align: top;\n",
       "    }\n",
       "\n",
       "    .dataframe thead th {\n",
       "        text-align: right;\n",
       "    }\n",
       "</style>\n",
       "<table border=\"1\" class=\"dataframe\">\n",
       "  <thead>\n",
       "    <tr style=\"text-align: right;\">\n",
       "      <th></th>\n",
       "      <th>l_2</th>\n",
       "      <th>l_3</th>\n",
       "      <th>l_4</th>\n",
       "      <th>l_5</th>\n",
       "      <th>l_6</th>\n",
       "      <th>l_7</th>\n",
       "      <th>l_8</th>\n",
       "      <th>l_9</th>\n",
       "      <th>l_10</th>\n",
       "      <th>l_11</th>\n",
       "      <th>...</th>\n",
       "      <th>l_503</th>\n",
       "      <th>l_504</th>\n",
       "      <th>l_505</th>\n",
       "      <th>l_506</th>\n",
       "      <th>l_507</th>\n",
       "      <th>l_508</th>\n",
       "      <th>l_509</th>\n",
       "      <th>l_510</th>\n",
       "      <th>l_511</th>\n",
       "      <th>r</th>\n",
       "    </tr>\n",
       "  </thead>\n",
       "  <tbody>\n",
       "    <tr>\n",
       "      <th>0</th>\n",
       "      <td>0.000172</td>\n",
       "      <td>0.000066</td>\n",
       "      <td>0.000078</td>\n",
       "      <td>0.000069</td>\n",
       "      <td>0.000063</td>\n",
       "      <td>0.000021</td>\n",
       "      <td>0.000053</td>\n",
       "      <td>0.000031</td>\n",
       "      <td>0.000043</td>\n",
       "      <td>0.000060</td>\n",
       "      <td>...</td>\n",
       "      <td>6.058483e-10</td>\n",
       "      <td>6.123373e-10</td>\n",
       "      <td>5.492230e-10</td>\n",
       "      <td>4.987756e-10</td>\n",
       "      <td>4.996063e-10</td>\n",
       "      <td>4.873860e-10</td>\n",
       "      <td>4.858634e-10</td>\n",
       "      <td>3.759005e-10</td>\n",
       "      <td>4.054609e-10</td>\n",
       "      <td>0.002872</td>\n",
       "    </tr>\n",
       "    <tr>\n",
       "      <th>1</th>\n",
       "      <td>0.000058</td>\n",
       "      <td>0.000068</td>\n",
       "      <td>0.000118</td>\n",
       "      <td>0.000045</td>\n",
       "      <td>0.000045</td>\n",
       "      <td>0.000043</td>\n",
       "      <td>0.000063</td>\n",
       "      <td>0.000035</td>\n",
       "      <td>0.000042</td>\n",
       "      <td>0.000061</td>\n",
       "      <td>...</td>\n",
       "      <td>5.957533e-10</td>\n",
       "      <td>5.382490e-10</td>\n",
       "      <td>5.511306e-10</td>\n",
       "      <td>4.965663e-10</td>\n",
       "      <td>4.848698e-10</td>\n",
       "      <td>4.638441e-10</td>\n",
       "      <td>4.146040e-10</td>\n",
       "      <td>3.850935e-10</td>\n",
       "      <td>3.658829e-10</td>\n",
       "      <td>0.002872</td>\n",
       "    </tr>\n",
       "    <tr>\n",
       "      <th>2</th>\n",
       "      <td>0.000066</td>\n",
       "      <td>0.000086</td>\n",
       "      <td>0.000129</td>\n",
       "      <td>0.000044</td>\n",
       "      <td>0.000056</td>\n",
       "      <td>0.000038</td>\n",
       "      <td>0.000041</td>\n",
       "      <td>0.000059</td>\n",
       "      <td>0.000060</td>\n",
       "      <td>0.000048</td>\n",
       "      <td>...</td>\n",
       "      <td>6.044535e-10</td>\n",
       "      <td>5.756162e-10</td>\n",
       "      <td>5.306156e-10</td>\n",
       "      <td>4.744517e-10</td>\n",
       "      <td>4.625054e-10</td>\n",
       "      <td>4.354919e-10</td>\n",
       "      <td>3.960931e-10</td>\n",
       "      <td>3.977156e-10</td>\n",
       "      <td>3.608611e-10</td>\n",
       "      <td>0.002872</td>\n",
       "    </tr>\n",
       "    <tr>\n",
       "      <th>3</th>\n",
       "      <td>0.000140</td>\n",
       "      <td>0.000167</td>\n",
       "      <td>0.000060</td>\n",
       "      <td>0.000070</td>\n",
       "      <td>0.000064</td>\n",
       "      <td>0.000030</td>\n",
       "      <td>0.000018</td>\n",
       "      <td>0.000049</td>\n",
       "      <td>0.000025</td>\n",
       "      <td>0.000042</td>\n",
       "      <td>...</td>\n",
       "      <td>6.067260e-10</td>\n",
       "      <td>5.923192e-10</td>\n",
       "      <td>5.206132e-10</td>\n",
       "      <td>5.064276e-10</td>\n",
       "      <td>4.546328e-10</td>\n",
       "      <td>4.771503e-10</td>\n",
       "      <td>4.041781e-10</td>\n",
       "      <td>3.925857e-10</td>\n",
       "      <td>3.493796e-10</td>\n",
       "      <td>0.002872</td>\n",
       "    </tr>\n",
       "    <tr>\n",
       "      <th>4</th>\n",
       "      <td>0.000025</td>\n",
       "      <td>0.000066</td>\n",
       "      <td>0.000041</td>\n",
       "      <td>0.000060</td>\n",
       "      <td>0.000052</td>\n",
       "      <td>0.000034</td>\n",
       "      <td>0.000046</td>\n",
       "      <td>0.000031</td>\n",
       "      <td>0.000035</td>\n",
       "      <td>0.000084</td>\n",
       "      <td>...</td>\n",
       "      <td>6.144698e-10</td>\n",
       "      <td>5.878574e-10</td>\n",
       "      <td>5.581525e-10</td>\n",
       "      <td>5.349131e-10</td>\n",
       "      <td>4.615936e-10</td>\n",
       "      <td>4.710612e-10</td>\n",
       "      <td>4.277015e-10</td>\n",
       "      <td>3.812178e-10</td>\n",
       "      <td>3.678812e-10</td>\n",
       "      <td>0.002872</td>\n",
       "    </tr>\n",
       "    <tr>\n",
       "      <th>...</th>\n",
       "      <td>...</td>\n",
       "      <td>...</td>\n",
       "      <td>...</td>\n",
       "      <td>...</td>\n",
       "      <td>...</td>\n",
       "      <td>...</td>\n",
       "      <td>...</td>\n",
       "      <td>...</td>\n",
       "      <td>...</td>\n",
       "      <td>...</td>\n",
       "      <td>...</td>\n",
       "      <td>...</td>\n",
       "      <td>...</td>\n",
       "      <td>...</td>\n",
       "      <td>...</td>\n",
       "      <td>...</td>\n",
       "      <td>...</td>\n",
       "      <td>...</td>\n",
       "      <td>...</td>\n",
       "      <td>...</td>\n",
       "      <td>...</td>\n",
       "    </tr>\n",
       "    <tr>\n",
       "      <th>7995</th>\n",
       "      <td>0.000138</td>\n",
       "      <td>0.000049</td>\n",
       "      <td>0.000021</td>\n",
       "      <td>0.000019</td>\n",
       "      <td>0.000019</td>\n",
       "      <td>0.000039</td>\n",
       "      <td>0.000031</td>\n",
       "      <td>0.000039</td>\n",
       "      <td>0.000046</td>\n",
       "      <td>0.000054</td>\n",
       "      <td>...</td>\n",
       "      <td>5.715559e-10</td>\n",
       "      <td>5.597664e-10</td>\n",
       "      <td>5.280729e-10</td>\n",
       "      <td>5.106220e-10</td>\n",
       "      <td>4.678772e-10</td>\n",
       "      <td>4.277167e-10</td>\n",
       "      <td>4.167436e-10</td>\n",
       "      <td>3.841709e-10</td>\n",
       "      <td>3.595660e-10</td>\n",
       "      <td>0.011467</td>\n",
       "    </tr>\n",
       "    <tr>\n",
       "      <th>7996</th>\n",
       "      <td>0.000049</td>\n",
       "      <td>0.000049</td>\n",
       "      <td>0.000023</td>\n",
       "      <td>0.000023</td>\n",
       "      <td>0.000052</td>\n",
       "      <td>0.000026</td>\n",
       "      <td>0.000055</td>\n",
       "      <td>0.000036</td>\n",
       "      <td>0.000066</td>\n",
       "      <td>0.000094</td>\n",
       "      <td>...</td>\n",
       "      <td>5.945880e-10</td>\n",
       "      <td>5.588835e-10</td>\n",
       "      <td>5.163429e-10</td>\n",
       "      <td>4.827139e-10</td>\n",
       "      <td>4.791565e-10</td>\n",
       "      <td>4.352070e-10</td>\n",
       "      <td>4.263153e-10</td>\n",
       "      <td>3.777479e-10</td>\n",
       "      <td>3.572270e-10</td>\n",
       "      <td>0.011467</td>\n",
       "    </tr>\n",
       "    <tr>\n",
       "      <th>7997</th>\n",
       "      <td>0.000084</td>\n",
       "      <td>0.000028</td>\n",
       "      <td>0.000024</td>\n",
       "      <td>0.000038</td>\n",
       "      <td>0.000044</td>\n",
       "      <td>0.000050</td>\n",
       "      <td>0.000049</td>\n",
       "      <td>0.000026</td>\n",
       "      <td>0.000089</td>\n",
       "      <td>0.000078</td>\n",
       "      <td>...</td>\n",
       "      <td>6.202956e-10</td>\n",
       "      <td>5.871600e-10</td>\n",
       "      <td>5.503659e-10</td>\n",
       "      <td>5.109527e-10</td>\n",
       "      <td>4.832764e-10</td>\n",
       "      <td>4.629816e-10</td>\n",
       "      <td>4.468772e-10</td>\n",
       "      <td>4.371018e-10</td>\n",
       "      <td>3.820512e-10</td>\n",
       "      <td>0.011467</td>\n",
       "    </tr>\n",
       "    <tr>\n",
       "      <th>7998</th>\n",
       "      <td>0.000007</td>\n",
       "      <td>0.000125</td>\n",
       "      <td>0.000024</td>\n",
       "      <td>0.000012</td>\n",
       "      <td>0.000050</td>\n",
       "      <td>0.000034</td>\n",
       "      <td>0.000055</td>\n",
       "      <td>0.000085</td>\n",
       "      <td>0.000079</td>\n",
       "      <td>0.000103</td>\n",
       "      <td>...</td>\n",
       "      <td>5.591386e-10</td>\n",
       "      <td>5.611786e-10</td>\n",
       "      <td>5.009329e-10</td>\n",
       "      <td>5.056176e-10</td>\n",
       "      <td>4.515758e-10</td>\n",
       "      <td>4.394383e-10</td>\n",
       "      <td>4.093147e-10</td>\n",
       "      <td>3.904380e-10</td>\n",
       "      <td>3.585950e-10</td>\n",
       "      <td>0.011467</td>\n",
       "    </tr>\n",
       "    <tr>\n",
       "      <th>7999</th>\n",
       "      <td>0.000085</td>\n",
       "      <td>0.000047</td>\n",
       "      <td>0.000044</td>\n",
       "      <td>0.000050</td>\n",
       "      <td>0.000027</td>\n",
       "      <td>0.000007</td>\n",
       "      <td>0.000039</td>\n",
       "      <td>0.000040</td>\n",
       "      <td>0.000049</td>\n",
       "      <td>0.000081</td>\n",
       "      <td>...</td>\n",
       "      <td>5.726886e-10</td>\n",
       "      <td>5.989801e-10</td>\n",
       "      <td>4.690192e-10</td>\n",
       "      <td>4.894000e-10</td>\n",
       "      <td>4.265101e-10</td>\n",
       "      <td>4.466181e-10</td>\n",
       "      <td>3.627355e-10</td>\n",
       "      <td>3.940726e-10</td>\n",
       "      <td>3.365828e-10</td>\n",
       "      <td>0.011467</td>\n",
       "    </tr>\n",
       "  </tbody>\n",
       "</table>\n",
       "<p>8000 rows × 511 columns</p>\n",
       "</div>"
      ],
      "text/plain": [
       "           l_2       l_3       l_4       l_5       l_6       l_7       l_8  \\\n",
       "0     0.000172  0.000066  0.000078  0.000069  0.000063  0.000021  0.000053   \n",
       "1     0.000058  0.000068  0.000118  0.000045  0.000045  0.000043  0.000063   \n",
       "2     0.000066  0.000086  0.000129  0.000044  0.000056  0.000038  0.000041   \n",
       "3     0.000140  0.000167  0.000060  0.000070  0.000064  0.000030  0.000018   \n",
       "4     0.000025  0.000066  0.000041  0.000060  0.000052  0.000034  0.000046   \n",
       "...        ...       ...       ...       ...       ...       ...       ...   \n",
       "7995  0.000138  0.000049  0.000021  0.000019  0.000019  0.000039  0.000031   \n",
       "7996  0.000049  0.000049  0.000023  0.000023  0.000052  0.000026  0.000055   \n",
       "7997  0.000084  0.000028  0.000024  0.000038  0.000044  0.000050  0.000049   \n",
       "7998  0.000007  0.000125  0.000024  0.000012  0.000050  0.000034  0.000055   \n",
       "7999  0.000085  0.000047  0.000044  0.000050  0.000027  0.000007  0.000039   \n",
       "\n",
       "           l_9      l_10      l_11  ...         l_503         l_504  \\\n",
       "0     0.000031  0.000043  0.000060  ...  6.058483e-10  6.123373e-10   \n",
       "1     0.000035  0.000042  0.000061  ...  5.957533e-10  5.382490e-10   \n",
       "2     0.000059  0.000060  0.000048  ...  6.044535e-10  5.756162e-10   \n",
       "3     0.000049  0.000025  0.000042  ...  6.067260e-10  5.923192e-10   \n",
       "4     0.000031  0.000035  0.000084  ...  6.144698e-10  5.878574e-10   \n",
       "...        ...       ...       ...  ...           ...           ...   \n",
       "7995  0.000039  0.000046  0.000054  ...  5.715559e-10  5.597664e-10   \n",
       "7996  0.000036  0.000066  0.000094  ...  5.945880e-10  5.588835e-10   \n",
       "7997  0.000026  0.000089  0.000078  ...  6.202956e-10  5.871600e-10   \n",
       "7998  0.000085  0.000079  0.000103  ...  5.591386e-10  5.611786e-10   \n",
       "7999  0.000040  0.000049  0.000081  ...  5.726886e-10  5.989801e-10   \n",
       "\n",
       "             l_505         l_506         l_507         l_508         l_509  \\\n",
       "0     5.492230e-10  4.987756e-10  4.996063e-10  4.873860e-10  4.858634e-10   \n",
       "1     5.511306e-10  4.965663e-10  4.848698e-10  4.638441e-10  4.146040e-10   \n",
       "2     5.306156e-10  4.744517e-10  4.625054e-10  4.354919e-10  3.960931e-10   \n",
       "3     5.206132e-10  5.064276e-10  4.546328e-10  4.771503e-10  4.041781e-10   \n",
       "4     5.581525e-10  5.349131e-10  4.615936e-10  4.710612e-10  4.277015e-10   \n",
       "...            ...           ...           ...           ...           ...   \n",
       "7995  5.280729e-10  5.106220e-10  4.678772e-10  4.277167e-10  4.167436e-10   \n",
       "7996  5.163429e-10  4.827139e-10  4.791565e-10  4.352070e-10  4.263153e-10   \n",
       "7997  5.503659e-10  5.109527e-10  4.832764e-10  4.629816e-10  4.468772e-10   \n",
       "7998  5.009329e-10  5.056176e-10  4.515758e-10  4.394383e-10  4.093147e-10   \n",
       "7999  4.690192e-10  4.894000e-10  4.265101e-10  4.466181e-10  3.627355e-10   \n",
       "\n",
       "             l_510         l_511         r  \n",
       "0     3.759005e-10  4.054609e-10  0.002872  \n",
       "1     3.850935e-10  3.658829e-10  0.002872  \n",
       "2     3.977156e-10  3.608611e-10  0.002872  \n",
       "3     3.925857e-10  3.493796e-10  0.002872  \n",
       "4     3.812178e-10  3.678812e-10  0.002872  \n",
       "...            ...           ...       ...  \n",
       "7995  3.841709e-10  3.595660e-10  0.011467  \n",
       "7996  3.777479e-10  3.572270e-10  0.011467  \n",
       "7997  4.371018e-10  3.820512e-10  0.011467  \n",
       "7998  3.904380e-10  3.585950e-10  0.011467  \n",
       "7999  3.940726e-10  3.365828e-10  0.011467  \n",
       "\n",
       "[8000 rows x 511 columns]"
      ]
     },
     "execution_count": 2,
     "metadata": {},
     "output_type": "execute_result"
    }
   ],
   "source": [
    "df"
   ]
  },
  {
   "cell_type": "markdown",
   "id": "7b6540f8",
   "metadata": {},
   "source": [
    "# 2 - Remoção de duplicados"
   ]
  },
  {
   "cell_type": "code",
   "execution_count": 3,
   "id": "15fee913",
   "metadata": {},
   "outputs": [
    {
     "name": "stdout",
     "output_type": "stream",
     "text": [
      "0       False\n",
      "1       False\n",
      "2       False\n",
      "3       False\n",
      "4       False\n",
      "        ...  \n",
      "7995    False\n",
      "7996    False\n",
      "7997    False\n",
      "7998    False\n",
      "7999    False\n",
      "Length: 8000, dtype: bool\n"
     ]
    }
   ],
   "source": [
    "# Verifica quais linhas são duplicatas\n",
    "duplicadas = df.duplicated()\n",
    "print(duplicadas)"
   ]
  },
  {
   "cell_type": "code",
   "execution_count": 4,
   "id": "7ac2c024",
   "metadata": {},
   "outputs": [
    {
     "name": "stdout",
     "output_type": "stream",
     "text": [
      "Total de linhas duplicadas: 0\n"
     ]
    }
   ],
   "source": [
    "total_duplicadas = df.duplicated().sum()\n",
    "print(f\"Total de linhas duplicadas: {total_duplicadas}\")"
   ]
  },
  {
   "cell_type": "markdown",
   "id": "426dd490",
   "metadata": {},
   "source": [
    "### OBS: Não há dados duplicados neste dataset"
   ]
  },
  {
   "cell_type": "markdown",
   "id": "e1e75966",
   "metadata": {},
   "source": [
    "# 3 - Verifica existencia de dados nulos"
   ]
  },
  {
   "cell_type": "code",
   "execution_count": 5,
   "id": "e9074903",
   "metadata": {},
   "outputs": [
    {
     "name": "stdout",
     "output_type": "stream",
     "text": [
      "Contagem de nulos por coluna:\n",
      "l_2      0\n",
      "l_3      0\n",
      "l_4      0\n",
      "l_5      0\n",
      "l_6      0\n",
      "        ..\n",
      "l_508    0\n",
      "l_509    0\n",
      "l_510    0\n",
      "l_511    0\n",
      "r        0\n",
      "Length: 511, dtype: int64\n"
     ]
    }
   ],
   "source": [
    "contagem_nulos = df.isnull().sum()\n",
    "print(\"Contagem de nulos por coluna:\")\n",
    "print(contagem_nulos)"
   ]
  },
  {
   "cell_type": "code",
   "execution_count": 6,
   "id": "726f7312",
   "metadata": {},
   "outputs": [
    {
     "name": "stdout",
     "output_type": "stream",
     "text": [
      "O número TOTAL de nulos no DataFrame é: 0\n"
     ]
    }
   ],
   "source": [
    "total_nulos_df = contagem_nulos.sum()\n",
    "\n",
    "print(f\"O número TOTAL de nulos no DataFrame é: {total_nulos_df}\")"
   ]
  },
  {
   "cell_type": "markdown",
   "id": "82483043",
   "metadata": {},
   "source": [
    "### OBS: Não há dados nulos no dataset."
   ]
  },
  {
   "cell_type": "markdown",
   "id": "8279b89d",
   "metadata": {},
   "source": [
    "# 4 - Checando tipos das colunas"
   ]
  },
  {
   "cell_type": "code",
   "execution_count": 7,
   "id": "944466c8",
   "metadata": {},
   "outputs": [
    {
     "name": "stdout",
     "output_type": "stream",
     "text": [
      "Informações detalhadas do DataFrame:\n",
      "<class 'pandas.core.frame.DataFrame'>\n",
      "RangeIndex: 8000 entries, 0 to 7999\n",
      "Columns: 511 entries, l_2 to r\n",
      "dtypes: float64(511)\n",
      "memory usage: 31.2 MB\n"
     ]
    }
   ],
   "source": [
    "print(\"Informações detalhadas do DataFrame:\")\n",
    "df.info()"
   ]
  },
  {
   "cell_type": "code",
   "execution_count": 9,
   "id": "00d3642c",
   "metadata": {},
   "outputs": [
    {
     "name": "stdout",
     "output_type": "stream",
     "text": [
      "Informações detalhadas do DataFrame:\n",
      "<class 'pandas.core.frame.DataFrame'>\n",
      "RangeIndex: 8000 entries, 0 to 7999\n",
      "Columns: 511 entries, l_2 to r\n",
      "dtypes: float64(511)\n",
      "memory usage: 31.2 MB\n"
     ]
    }
   ],
   "source": [
    "print(\"Informações detalhadas do DataFrame:\")\n",
    "df.info()"
   ]
  },
  {
   "cell_type": "markdown",
   "id": "8f2b1a6b",
   "metadata": {},
   "source": [
    "### OBS: Todos os dados são númericos do tipo float64\n"
   ]
  },
  {
   "cell_type": "markdown",
   "id": "f0fdcc22",
   "metadata": {},
   "source": [
    "# 5 - Verificando se os dados estão normalizados"
   ]
  },
  {
   "cell_type": "code",
   "execution_count": 10,
   "id": "23f3b527",
   "metadata": {},
   "outputs": [
    {
     "name": "stdout",
     "output_type": "stream",
     "text": [
      "O valor máximo de todo o DataFrame é: 0.049998\n"
     ]
    }
   ],
   "source": [
    "maximo_global = df.max(numeric_only=True).max()\n",
    "\n",
    "print(f\"O valor máximo de todo o DataFrame é: {maximo_global}\")"
   ]
  },
  {
   "cell_type": "code",
   "execution_count": 11,
   "id": "b242e432",
   "metadata": {},
   "outputs": [
    {
     "name": "stdout",
     "output_type": "stream",
     "text": [
      "O valor mínimo de todo o DataFrame é: 4.627907e-10\n"
     ]
    }
   ],
   "source": [
    "minimo_global = df.max(numeric_only=True).min()\n",
    "\n",
    "print(f\"O valor mínimo de todo o DataFrame é: {minimo_global}\")"
   ]
  },
  {
   "cell_type": "code",
   "execution_count": 12,
   "id": "4e920753",
   "metadata": {},
   "outputs": [
    {
     "name": "stdout",
     "output_type": "stream",
     "text": [
      "O valor máximo do target é: 0.049998\n"
     ]
    }
   ],
   "source": [
    "maximo_target = df['r'].max()\n",
    "\n",
    "print(f\"O valor máximo do target é: {maximo_target}\")"
   ]
  },
  {
   "cell_type": "code",
   "execution_count": 13,
   "id": "4f0d0705",
   "metadata": {},
   "outputs": [
    {
     "name": "stdout",
     "output_type": "stream",
     "text": [
      "O valor mínimo do target é: 0.0\n"
     ]
    }
   ],
   "source": [
    "minimo_target = df['r'].min()\n",
    "\n",
    "print(f\"O valor mínimo do target é: {minimo_target}\")"
   ]
  },
  {
   "cell_type": "markdown",
   "id": "e76541bd",
   "metadata": {},
   "source": [
    "### OBS:\n",
    "\n",
    "- Os dados númericos todos se encontram entre 0 e 1, mas não estão normalizados.\n",
    "\n",
    "- A normalização será feita após dividir-se o dataset entre X_features e y_target\n"
   ]
  }
 ],
 "metadata": {
  "kernelspec": {
   "display_name": "vamo-py3.11",
   "language": "python",
   "name": "python3"
  },
  "language_info": {
   "codemirror_mode": {
    "name": "ipython",
    "version": 3
   },
   "file_extension": ".py",
   "mimetype": "text/x-python",
   "name": "python",
   "nbconvert_exporter": "python",
   "pygments_lexer": "ipython3",
   "version": "3.11.13"
  }
 },
 "nbformat": 4,
 "nbformat_minor": 5
}
